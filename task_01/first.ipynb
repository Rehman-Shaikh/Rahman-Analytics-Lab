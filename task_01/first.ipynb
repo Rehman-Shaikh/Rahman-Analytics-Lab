{
 "cells": [
  {
   "cell_type": "markdown",
   "id": "c1e031ed",
   "metadata": {},
   "source": [
    "Importing pandas and data"
   ]
  },
  {
   "cell_type": "code",
   "execution_count": 11,
   "id": "cc217d41",
   "metadata": {},
   "outputs": [
    {
     "name": "stdout",
     "output_type": "stream",
     "text": [
      "  show_id     type                  title         director  \\\n",
      "0      s1    Movie   Dick Johnson Is Dead  Kirsten Johnson   \n",
      "1      s2  TV Show          Blood & Water              NaN   \n",
      "2      s3  TV Show              Ganglands  Julien Leclercq   \n",
      "3      s4  TV Show  Jailbirds New Orleans              NaN   \n",
      "4      s5  TV Show           Kota Factory              NaN   \n",
      "\n",
      "                                                cast        country  \\\n",
      "0                                                NaN  United States   \n",
      "1  Ama Qamata, Khosi Ngema, Gail Mabalane, Thaban...   South Africa   \n",
      "2  Sami Bouajila, Tracy Gotoas, Samuel Jouy, Nabi...            NaN   \n",
      "3                                                NaN            NaN   \n",
      "4  Mayur More, Jitendra Kumar, Ranjan Raj, Alam K...          India   \n",
      "\n",
      "           date_added  release_year rating   duration  \\\n",
      "0  September 25, 2021          2020  PG-13     90 min   \n",
      "1  September 24, 2021          2021  TV-MA  2 Seasons   \n",
      "2  September 24, 2021          2021  TV-MA   1 Season   \n",
      "3  September 24, 2021          2021  TV-MA   1 Season   \n",
      "4  September 24, 2021          2021  TV-MA  2 Seasons   \n",
      "\n",
      "                                           listed_in  \\\n",
      "0                                      Documentaries   \n",
      "1    International TV Shows, TV Dramas, TV Mysteries   \n",
      "2  Crime TV Shows, International TV Shows, TV Act...   \n",
      "3                             Docuseries, Reality TV   \n",
      "4  International TV Shows, Romantic TV Shows, TV ...   \n",
      "\n",
      "                                         description  \n",
      "0  As her father nears the end of his life, filmm...  \n",
      "1  After crossing paths at a party, a Cape Town t...  \n",
      "2  To protect his family from a powerful drug lor...  \n",
      "3  Feuds, flirtations and toilet talk go down amo...  \n",
      "4  In a city of coaching centers known to train I...  \n"
     ]
    }
   ],
   "source": [
    "import pandas as pd\n",
    "\n",
    "# Excel file load karo\n",
    "df = pd.read_csv(r\"C:\\Users\\rehma\\Pictures\\Daily_tasks\\Rahman-Analytics-Lab\\netflix_titles.csv\")\n",
    "\n",
    "# Pehle 5 rows dekh lo\n",
    "print(df.head(5))\n"
   ]
  },
  {
   "cell_type": "markdown",
   "id": "372169f8",
   "metadata": {},
   "source": [
    "Detailed structure (rows, columns, types, memory)"
   ]
  },
  {
   "cell_type": "code",
   "execution_count": 13,
   "id": "9289e2cd",
   "metadata": {},
   "outputs": [
    {
     "name": "stdout",
     "output_type": "stream",
     "text": [
      "<class 'pandas.core.frame.DataFrame'>\n",
      "RangeIndex: 8807 entries, 0 to 8806\n",
      "Data columns (total 12 columns):\n",
      " #   Column        Non-Null Count  Dtype \n",
      "---  ------        --------------  ----- \n",
      " 0   show_id       8807 non-null   object\n",
      " 1   type          8807 non-null   object\n",
      " 2   title         8807 non-null   object\n",
      " 3   director      6173 non-null   object\n",
      " 4   cast          7982 non-null   object\n",
      " 5   country       7976 non-null   object\n",
      " 6   date_added    8797 non-null   object\n",
      " 7   release_year  8807 non-null   int64 \n",
      " 8   rating        8803 non-null   object\n",
      " 9   duration      8804 non-null   object\n",
      " 10  listed_in     8807 non-null   object\n",
      " 11  description   8807 non-null   object\n",
      "dtypes: int64(1), object(11)\n",
      "memory usage: 825.8+ KB\n",
      "None\n"
     ]
    }
   ],
   "source": [
    "print(df.info())"
   ]
  },
  {
   "cell_type": "markdown",
   "id": "a08a55fa",
   "metadata": {},
   "source": [
    "Dropping Missing(NULL) rows"
   ]
  },
  {
   "cell_type": "code",
   "execution_count": 14,
   "id": "7c5200c4",
   "metadata": {},
   "outputs": [],
   "source": [
    "df = df.dropna()"
   ]
  },
  {
   "cell_type": "code",
   "execution_count": 15,
   "id": "f114b725",
   "metadata": {},
   "outputs": [
    {
     "name": "stdout",
     "output_type": "stream",
     "text": [
      "<class 'pandas.core.frame.DataFrame'>\n",
      "Index: 5332 entries, 7 to 8806\n",
      "Data columns (total 12 columns):\n",
      " #   Column        Non-Null Count  Dtype \n",
      "---  ------        --------------  ----- \n",
      " 0   show_id       5332 non-null   object\n",
      " 1   type          5332 non-null   object\n",
      " 2   title         5332 non-null   object\n",
      " 3   director      5332 non-null   object\n",
      " 4   cast          5332 non-null   object\n",
      " 5   country       5332 non-null   object\n",
      " 6   date_added    5332 non-null   object\n",
      " 7   release_year  5332 non-null   int64 \n",
      " 8   rating        5332 non-null   object\n",
      " 9   duration      5332 non-null   object\n",
      " 10  listed_in     5332 non-null   object\n",
      " 11  description   5332 non-null   object\n",
      "dtypes: int64(1), object(11)\n",
      "memory usage: 541.5+ KB\n",
      "None\n"
     ]
    }
   ],
   "source": [
    "print(df.info())"
   ]
  },
  {
   "cell_type": "markdown",
   "id": "9ebed67b",
   "metadata": {},
   "source": [
    "Handling date_time"
   ]
  },
  {
   "cell_type": "code",
   "execution_count": 16,
   "id": "4b4d3829",
   "metadata": {},
   "outputs": [],
   "source": [
    "df['date_added'] = pd.to_datetime(df['date_added'], errors='coerce')\n",
    "df['date_added'] = df['date_added'].dt.strftime('%d-%m-%Y')"
   ]
  },
  {
   "cell_type": "code",
   "execution_count": 17,
   "id": "d08360d4",
   "metadata": {},
   "outputs": [
    {
     "name": "stdout",
     "output_type": "stream",
     "text": [
      "   show_id     type                          title             director  \\\n",
      "7       s8    Movie                        Sankofa         Haile Gerima   \n",
      "8       s9  TV Show  The Great British Baking Show      Andy Devonshire   \n",
      "9      s10    Movie                   The Starling       Theodore Melfi   \n",
      "12     s13    Movie                   Je Suis Karl  Christian Schwochow   \n",
      "24     s25    Movie                          Jeans           S. Shankar   \n",
      "\n",
      "                                                 cast  \\\n",
      "7   Kofi Ghanaba, Oyafunmike Ogunlano, Alexandra D...   \n",
      "8   Mel Giedroyc, Sue Perkins, Mary Berry, Paul Ho...   \n",
      "9   Melissa McCarthy, Chris O'Dowd, Kevin Kline, T...   \n",
      "12  Luna Wedler, Jannis Niewöhner, Milan Peschel, ...   \n",
      "24  Prashanth, Aishwarya Rai Bachchan, Sri Lakshmi...   \n",
      "\n",
      "                                              country  date_added  \\\n",
      "7   United States, Ghana, Burkina Faso, United Kin...  24-09-2021   \n",
      "8                                      United Kingdom  24-09-2021   \n",
      "9                                       United States  24-09-2021   \n",
      "12                            Germany, Czech Republic  23-09-2021   \n",
      "24                                              India  21-09-2021   \n",
      "\n",
      "    release_year rating   duration  \\\n",
      "7           1993  TV-MA    125 min   \n",
      "8           2021  TV-14  9 Seasons   \n",
      "9           2021  PG-13    104 min   \n",
      "12          2021  TV-MA    127 min   \n",
      "24          1998  TV-14    166 min   \n",
      "\n",
      "                                           listed_in  \\\n",
      "7   Dramas, Independent Movies, International Movies   \n",
      "8                       British TV Shows, Reality TV   \n",
      "9                                   Comedies, Dramas   \n",
      "12                      Dramas, International Movies   \n",
      "24   Comedies, International Movies, Romantic Movies   \n",
      "\n",
      "                                          description  \n",
      "7   On a photo shoot in Ghana, an American model s...  \n",
      "8   A talented batch of amateur bakers face off in...  \n",
      "9   A woman adjusting to life after a loss contend...  \n",
      "12  After most of her family is murdered in a terr...  \n",
      "24  When the father of the man she loves insists t...  \n"
     ]
    }
   ],
   "source": [
    "print(df.head())"
   ]
  },
  {
   "cell_type": "markdown",
   "id": "d54a3ef0",
   "metadata": {},
   "source": [
    "Detecting Duplicate items"
   ]
  },
  {
   "cell_type": "code",
   "execution_count": 19,
   "id": "3d447acc",
   "metadata": {},
   "outputs": [
    {
     "name": "stdout",
     "output_type": "stream",
     "text": [
      "Empty DataFrame\n",
      "Columns: [show_id, type, title, director, cast, country, date_added, release_year, rating, duration, listed_in, description]\n",
      "Index: []\n"
     ]
    }
   ],
   "source": [
    "duplicates = df[df.duplicated()]\n",
    "print(duplicates)"
   ]
  },
  {
   "cell_type": "markdown",
   "id": "e2d37f29",
   "metadata": {},
   "source": [
    "Rename Column Headers (Lowercase, no spaces)"
   ]
  },
  {
   "cell_type": "code",
   "execution_count": 20,
   "id": "b76e50f5",
   "metadata": {},
   "outputs": [],
   "source": [
    "# Clean column names\n",
    "df.columns = df.columns.str.strip().str.lower().str.replace(' ', '_')"
   ]
  },
  {
   "cell_type": "markdown",
   "id": "1908cdf5",
   "metadata": {},
   "source": [
    "Standardize Text Values"
   ]
  },
  {
   "cell_type": "code",
   "execution_count": 21,
   "id": "a5dab14e",
   "metadata": {},
   "outputs": [],
   "source": [
    "# clean country name\n",
    "df['country'] = df['country'].str.lower().str.strip()\n",
    "\n",
    "# convert rating to standard format\n",
    "df['rating'] = df['rating'].str.strip()\n",
    "\n",
    "# convert duration to standard format\n",
    "df['duration'] = df['duration'].str.strip()\n"
   ]
  },
  {
   "cell_type": "markdown",
   "id": "29ef93b1",
   "metadata": {},
   "source": [
    "Check and Fix Data Types"
   ]
  },
  {
   "cell_type": "code",
   "execution_count": 22,
   "id": "54e09a95",
   "metadata": {},
   "outputs": [
    {
     "name": "stdout",
     "output_type": "stream",
     "text": [
      "show_id         object\n",
      "type            object\n",
      "title           object\n",
      "director        object\n",
      "cast            object\n",
      "country         object\n",
      "date_added      object\n",
      "release_year     int64\n",
      "rating          object\n",
      "duration        object\n",
      "listed_in       object\n",
      "description     object\n",
      "dtype: object\n"
     ]
    }
   ],
   "source": [
    "# Check data types of columns\n",
    "print(df.dtypes)"
   ]
  },
  {
   "cell_type": "markdown",
   "id": "f528d62a",
   "metadata": {},
   "source": [
    " Save Cleaned Data"
   ]
  },
  {
   "cell_type": "code",
   "execution_count": 26,
   "id": "80f43b4d",
   "metadata": {},
   "outputs": [
    {
     "name": "stdout",
     "output_type": "stream",
     "text": [
      "   show_id     type                          title             director  \\\n",
      "7       s8    Movie                        Sankofa         Haile Gerima   \n",
      "8       s9  TV Show  The Great British Baking Show      Andy Devonshire   \n",
      "9      s10    Movie                   The Starling       Theodore Melfi   \n",
      "12     s13    Movie                   Je Suis Karl  Christian Schwochow   \n",
      "24     s25    Movie                          Jeans           S. Shankar   \n",
      "\n",
      "                                                 cast  \\\n",
      "7   Kofi Ghanaba, Oyafunmike Ogunlano, Alexandra D...   \n",
      "8   Mel Giedroyc, Sue Perkins, Mary Berry, Paul Ho...   \n",
      "9   Melissa McCarthy, Chris O'Dowd, Kevin Kline, T...   \n",
      "12  Luna Wedler, Jannis Niewöhner, Milan Peschel, ...   \n",
      "24  Prashanth, Aishwarya Rai Bachchan, Sri Lakshmi...   \n",
      "\n",
      "                                              country  date_added  \\\n",
      "7   united states, ghana, burkina faso, united kin...  24-09-2021   \n",
      "8                                      united kingdom  24-09-2021   \n",
      "9                                       united states  24-09-2021   \n",
      "12                            germany, czech republic  23-09-2021   \n",
      "24                                              india  21-09-2021   \n",
      "\n",
      "    release_year rating   duration  \\\n",
      "7           1993  TV-MA    125 min   \n",
      "8           2021  TV-14  9 Seasons   \n",
      "9           2021  PG-13    104 min   \n",
      "12          2021  TV-MA    127 min   \n",
      "24          1998  TV-14    166 min   \n",
      "\n",
      "                                           listed_in  \\\n",
      "7   Dramas, Independent Movies, International Movies   \n",
      "8                       British TV Shows, Reality TV   \n",
      "9                                   Comedies, Dramas   \n",
      "12                      Dramas, International Movies   \n",
      "24   Comedies, International Movies, Romantic Movies   \n",
      "\n",
      "                                          description  \n",
      "7   On a photo shoot in Ghana, an American model s...  \n",
      "8   A talented batch of amateur bakers face off in...  \n",
      "9   A woman adjusting to life after a loss contend...  \n",
      "12  After most of her family is murdered in a terr...  \n",
      "24  When the father of the man she loves insists t...  \n"
     ]
    }
   ],
   "source": [
    "df.to_csv(\"cleaned_data.csv\", index=False)\n",
    "print(df.head())"
   ]
  }
 ],
 "metadata": {
  "kernelspec": {
   "display_name": "Python 3",
   "language": "python",
   "name": "python3"
  },
  "language_info": {
   "codemirror_mode": {
    "name": "ipython",
    "version": 3
   },
   "file_extension": ".py",
   "mimetype": "text/x-python",
   "name": "python",
   "nbconvert_exporter": "python",
   "pygments_lexer": "ipython3",
   "version": "3.12.6"
  }
 },
 "nbformat": 4,
 "nbformat_minor": 5
}

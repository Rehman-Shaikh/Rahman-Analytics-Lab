{
 "cells": [
  {
   "cell_type": "markdown",
   "id": "58f65caf-84d2-40b3-aed4-035a16b8393b",
   "metadata": {},
   "source": [
    "**Importing the necessary libraries**"
   ]
  },
  {
   "cell_type": "code",
   "execution_count": 1,
   "id": "4fcc916a-2094-445e-98bd-ba4e82052667",
   "metadata": {},
   "outputs": [],
   "source": [
    "import numpy as np\n",
    "import pandas as pd\n",
    "import matplotlib.pyplot as plt\n",
    "import seaborn as sns"
   ]
  },
  {
   "cell_type": "markdown",
   "id": "5c79ca90-7f91-4963-9003-4652702490e7",
   "metadata": {},
   "source": [
    "**Loading Data**"
   ]
  },
  {
   "cell_type": "code",
   "execution_count": 4,
   "id": "33f53040-73dc-4113-9e2c-03018cd30055",
   "metadata": {},
   "outputs": [
    {
     "data": {
      "text/html": [
       "<div>\n",
       "<style scoped>\n",
       "    .dataframe tbody tr th:only-of-type {\n",
       "        vertical-align: middle;\n",
       "    }\n",
       "\n",
       "    .dataframe tbody tr th {\n",
       "        vertical-align: top;\n",
       "    }\n",
       "\n",
       "    .dataframe thead th {\n",
       "        text-align: right;\n",
       "    }\n",
       "</style>\n",
       "<table border=\"1\" class=\"dataframe\">\n",
       "  <thead>\n",
       "    <tr style=\"text-align: right;\">\n",
       "      <th></th>\n",
       "      <th>InvoiceNo</th>\n",
       "      <th>StockCode</th>\n",
       "      <th>Description</th>\n",
       "      <th>Quantity</th>\n",
       "      <th>InvoiceDate</th>\n",
       "      <th>UnitPrice</th>\n",
       "      <th>CustomerID</th>\n",
       "      <th>Country</th>\n",
       "    </tr>\n",
       "  </thead>\n",
       "  <tbody>\n",
       "    <tr>\n",
       "      <th>0</th>\n",
       "      <td>536365</td>\n",
       "      <td>85123A</td>\n",
       "      <td>WHITE HANGING HEART T-LIGHT HOLDER</td>\n",
       "      <td>6</td>\n",
       "      <td>12/1/2010 8:26</td>\n",
       "      <td>2.55</td>\n",
       "      <td>17850.0</td>\n",
       "      <td>United Kingdom</td>\n",
       "    </tr>\n",
       "    <tr>\n",
       "      <th>1</th>\n",
       "      <td>536365</td>\n",
       "      <td>71053</td>\n",
       "      <td>WHITE METAL LANTERN</td>\n",
       "      <td>6</td>\n",
       "      <td>12/1/2010 8:26</td>\n",
       "      <td>3.39</td>\n",
       "      <td>17850.0</td>\n",
       "      <td>United Kingdom</td>\n",
       "    </tr>\n",
       "    <tr>\n",
       "      <th>2</th>\n",
       "      <td>536365</td>\n",
       "      <td>84406B</td>\n",
       "      <td>CREAM CUPID HEARTS COAT HANGER</td>\n",
       "      <td>8</td>\n",
       "      <td>12/1/2010 8:26</td>\n",
       "      <td>2.75</td>\n",
       "      <td>17850.0</td>\n",
       "      <td>United Kingdom</td>\n",
       "    </tr>\n",
       "    <tr>\n",
       "      <th>3</th>\n",
       "      <td>536365</td>\n",
       "      <td>84029G</td>\n",
       "      <td>KNITTED UNION FLAG HOT WATER BOTTLE</td>\n",
       "      <td>6</td>\n",
       "      <td>12/1/2010 8:26</td>\n",
       "      <td>3.39</td>\n",
       "      <td>17850.0</td>\n",
       "      <td>United Kingdom</td>\n",
       "    </tr>\n",
       "    <tr>\n",
       "      <th>4</th>\n",
       "      <td>536365</td>\n",
       "      <td>84029E</td>\n",
       "      <td>RED WOOLLY HOTTIE WHITE HEART.</td>\n",
       "      <td>6</td>\n",
       "      <td>12/1/2010 8:26</td>\n",
       "      <td>3.39</td>\n",
       "      <td>17850.0</td>\n",
       "      <td>United Kingdom</td>\n",
       "    </tr>\n",
       "  </tbody>\n",
       "</table>\n",
       "</div>"
      ],
      "text/plain": [
       "  InvoiceNo StockCode                          Description  Quantity  \\\n",
       "0    536365    85123A   WHITE HANGING HEART T-LIGHT HOLDER         6   \n",
       "1    536365     71053                  WHITE METAL LANTERN         6   \n",
       "2    536365    84406B       CREAM CUPID HEARTS COAT HANGER         8   \n",
       "3    536365    84029G  KNITTED UNION FLAG HOT WATER BOTTLE         6   \n",
       "4    536365    84029E       RED WOOLLY HOTTIE WHITE HEART.         6   \n",
       "\n",
       "      InvoiceDate  UnitPrice  CustomerID         Country  \n",
       "0  12/1/2010 8:26       2.55     17850.0  United Kingdom  \n",
       "1  12/1/2010 8:26       3.39     17850.0  United Kingdom  \n",
       "2  12/1/2010 8:26       2.75     17850.0  United Kingdom  \n",
       "3  12/1/2010 8:26       3.39     17850.0  United Kingdom  \n",
       "4  12/1/2010 8:26       3.39     17850.0  United Kingdom  "
      ]
     },
     "execution_count": 4,
     "metadata": {},
     "output_type": "execute_result"
    }
   ],
   "source": [
    "data = pd.read_csv(r'C:\\Users\\rehma\\Pictures\\Daily_tasks\\Rahman-Analytics-Lab\\data.csv', encoding=\"ISO-8859-1\") \n",
    "data.head()"
   ]
  },
  {
   "cell_type": "code",
   "execution_count": 5,
   "id": "38a91a1a-77fa-45c5-8ae7-a9b8c04636b2",
   "metadata": {},
   "outputs": [
    {
     "data": {
      "text/plain": [
       "(541909, 8)"
      ]
     },
     "execution_count": 5,
     "metadata": {},
     "output_type": "execute_result"
    }
   ],
   "source": [
    "data.shape"
   ]
  },
  {
   "cell_type": "markdown",
   "id": "eb355a8a-2ebe-40c7-8228-2a05d9dde16a",
   "metadata": {},
   "source": [
    "### Data processing"
   ]
  },
  {
   "cell_type": "markdown",
   "id": "69f8a422-ca63-40d4-9c37-d5c3bcb9be9d",
   "metadata": {},
   "source": [
    "**Missing data**"
   ]
  },
  {
   "cell_type": "code",
   "execution_count": 6,
   "id": "3c9b8d0d-2f02-4145-8116-8ae4ac1f30ce",
   "metadata": {},
   "outputs": [
    {
     "data": {
      "text/plain": [
       "InvoiceNo           0\n",
       "StockCode           0\n",
       "Description      1454\n",
       "Quantity            0\n",
       "InvoiceDate         0\n",
       "UnitPrice           0\n",
       "CustomerID     135080\n",
       "Country             0\n",
       "dtype: int64"
      ]
     },
     "execution_count": 6,
     "metadata": {},
     "output_type": "execute_result"
    }
   ],
   "source": [
    "data.isna().sum()"
   ]
  },
  {
   "cell_type": "markdown",
   "id": "ff211c24-0027-4dfa-925a-532e4f51f252",
   "metadata": {},
   "source": [
    "CustomerID 135080 of missing rows (24.93% missing values)\n",
    "\n",
    "The CustomerID column contains nearly a quarter of missing data. This column is essential for clustering customers,Imputing such a large percentage of missing values might introduce significant bias or noise into the analysis. By removing rows with missing values in the CustomerID and Description columns, we aim to construct a cleaner and more reliable dataset"
   ]
  },
  {
   "cell_type": "code",
   "execution_count": 7,
   "id": "06cbc97c-2dd3-4adf-9cff-6ea7c31b9580",
   "metadata": {},
   "outputs": [],
   "source": [
    "data = data[data['CustomerID'].isna()==False]"
   ]
  },
  {
   "cell_type": "code",
   "execution_count": 8,
   "id": "16724a1d-26c2-4544-a7b4-bef53ef386b5",
   "metadata": {},
   "outputs": [
    {
     "data": {
      "text/plain": [
       "InvoiceNo      0\n",
       "StockCode      0\n",
       "Description    0\n",
       "Quantity       0\n",
       "InvoiceDate    0\n",
       "UnitPrice      0\n",
       "CustomerID     0\n",
       "Country        0\n",
       "dtype: int64"
      ]
     },
     "execution_count": 8,
     "metadata": {},
     "output_type": "execute_result"
    }
   ],
   "source": [
    "data.isnull().sum()"
   ]
  },
  {
   "cell_type": "markdown",
   "id": "758a375d-5010-4a4c-91d0-1ec8d72f149d",
   "metadata": {},
   "source": [
    "**Duplicated Rows**"
   ]
  },
  {
   "cell_type": "code",
   "execution_count": 9,
   "id": "8e9a3bde-7060-4b72-b737-dd025533bd30",
   "metadata": {},
   "outputs": [
    {
     "data": {
      "text/plain": [
       "5225"
      ]
     },
     "execution_count": 9,
     "metadata": {},
     "output_type": "execute_result"
    }
   ],
   "source": [
    "data.duplicated().sum()"
   ]
  },
  {
   "cell_type": "code",
   "execution_count": 10,
   "id": "5aab6915-96c9-4ec0-8c47-63e99ad7972c",
   "metadata": {},
   "outputs": [],
   "source": [
    "data.drop_duplicates(inplace= True)"
   ]
  },
  {
   "cell_type": "markdown",
   "id": "8be9edd9-e70b-40df-bd19-2d35fc9374df",
   "metadata": {},
   "source": [
    "**Converting dtypes**"
   ]
  },
  {
   "cell_type": "code",
   "execution_count": 11,
   "id": "f308fc08-6bfb-4799-b947-3a8a5e94028c",
   "metadata": {},
   "outputs": [
    {
     "data": {
      "text/plain": [
       "InvoiceNo       object\n",
       "StockCode       object\n",
       "Description     object\n",
       "Quantity         int64\n",
       "InvoiceDate     object\n",
       "UnitPrice      float64\n",
       "CustomerID     float64\n",
       "Country         object\n",
       "dtype: object"
      ]
     },
     "execution_count": 11,
     "metadata": {},
     "output_type": "execute_result"
    }
   ],
   "source": [
    "data.dtypes"
   ]
  },
  {
   "cell_type": "markdown",
   "id": "ab9a44ce-da7e-4933-9f12-504d0c3578dc",
   "metadata": {},
   "source": [
    "let's convert 'InvoiceDate' to a datetime data type and 'CustomerID' to an integer data type."
   ]
  },
  {
   "cell_type": "code",
   "execution_count": 12,
   "id": "c62575db-a841-4a7b-be7d-7fe3412bafda",
   "metadata": {},
   "outputs": [],
   "source": [
    "data['InvoiceDate'] = pd.to_datetime(data['InvoiceDate'])"
   ]
  },
  {
   "cell_type": "code",
   "execution_count": 13,
   "id": "b3c46f5c-4334-45d4-ab3b-d03ba53ff2fc",
   "metadata": {},
   "outputs": [],
   "source": [
    "data['CustomerID'] = data['CustomerID'].astype(int , errors = 'ignore')"
   ]
  },
  {
   "cell_type": "markdown",
   "id": "0580b10c-ad66-45ba-8f27-27e90ec3be25",
   "metadata": {},
   "source": [
    "**Treating With Cancelled Transactions**"
   ]
  },
  {
   "cell_type": "markdown",
   "id": "71f909b6-ee5c-4a5a-a3e0-7bac4945da0b",
   "metadata": {},
   "source": [
    "we will drop it now and and analysis it later"
   ]
  },
  {
   "cell_type": "code",
   "execution_count": 14,
   "id": "201554c0-51f2-4e08-ba47-caef7a264c37",
   "metadata": {},
   "outputs": [],
   "source": [
    "data = data[data['InvoiceNo'].apply(lambda x : x[0]) != 'C']"
   ]
  },
  {
   "cell_type": "markdown",
   "id": "e2ccd1a0-6f95-4032-b2f3-242485ba4d88",
   "metadata": {},
   "source": [
    "## Customer Lifetime Value"
   ]
  },
  {
   "cell_type": "markdown",
   "id": "5d791cf0-5c25-41f5-94c7-c4250fcbc5a9",
   "metadata": {},
   "source": [
    "There are lots of approaches available for calculating CLTV. Everyone has his own view on it that suitable for his bussines"
   ]
  },
  {
   "cell_type": "markdown",
   "id": "badc714a-c6fd-43f5-9d53-41286f92e42a",
   "metadata": {},
   "source": [
    "__CLTV = ((Average Order Value x Purchase Frequency)/Churn Rate) x Profit margin.__"
   ]
  },
  {
   "cell_type": "code",
   "execution_count": 17,
   "id": "7726dfc6-c072-4910-ab41-37aea4b3c2ef",
   "metadata": {},
   "outputs": [],
   "source": [
    "#Calulate total purchase\n",
    "data['total purchase'] = data['UnitPrice'] * data['Quantity']"
   ]
  },
  {
   "cell_type": "code",
   "execution_count": 18,
   "id": "215a4110-eeb2-46a1-8eda-400183cd9473",
   "metadata": {},
   "outputs": [],
   "source": [
    "data_group = data.groupby('CustomerID' , as_index=False).agg({\n",
    "    'total purchase':'sum' , 'InvoiceNo':'count' ,'Country':'min' ,'InvoiceDate':lambda date:(max(date) - min(date)).days}).rename(\n",
    "      columns = {'InvoiceNo' : 'num_transactions' , 'InvoiceDate':'days'})"
   ]
  },
  {
   "cell_type": "markdown",
   "id": "42c9c743-8522-4806-969c-01021e40007f",
   "metadata": {},
   "source": [
    "__1. Calculate Average Order Value__"
   ]
  },
  {
   "cell_type": "code",
   "execution_count": 19,
   "id": "6e568037-15f2-4e7b-83bd-d02612d75f6a",
   "metadata": {},
   "outputs": [],
   "source": [
    "data_group['avg_order_value'] = data_group['total purchase']/data_group['num_transactions']"
   ]
  },
  {
   "cell_type": "code",
   "execution_count": 20,
   "id": "e6fcb3d3-3961-4266-bae8-602976fe9f7d",
   "metadata": {},
   "outputs": [
    {
     "data": {
      "text/html": [
       "<div>\n",
       "<style scoped>\n",
       "    .dataframe tbody tr th:only-of-type {\n",
       "        vertical-align: middle;\n",
       "    }\n",
       "\n",
       "    .dataframe tbody tr th {\n",
       "        vertical-align: top;\n",
       "    }\n",
       "\n",
       "    .dataframe thead th {\n",
       "        text-align: right;\n",
       "    }\n",
       "</style>\n",
       "<table border=\"1\" class=\"dataframe\">\n",
       "  <thead>\n",
       "    <tr style=\"text-align: right;\">\n",
       "      <th></th>\n",
       "      <th>CustomerID</th>\n",
       "      <th>total purchase</th>\n",
       "      <th>num_transactions</th>\n",
       "      <th>Country</th>\n",
       "      <th>days</th>\n",
       "      <th>avg_order_value</th>\n",
       "    </tr>\n",
       "  </thead>\n",
       "  <tbody>\n",
       "    <tr>\n",
       "      <th>0</th>\n",
       "      <td>12346</td>\n",
       "      <td>77183.60</td>\n",
       "      <td>1</td>\n",
       "      <td>United Kingdom</td>\n",
       "      <td>0</td>\n",
       "      <td>77183.600000</td>\n",
       "    </tr>\n",
       "    <tr>\n",
       "      <th>1</th>\n",
       "      <td>12347</td>\n",
       "      <td>4310.00</td>\n",
       "      <td>182</td>\n",
       "      <td>Iceland</td>\n",
       "      <td>365</td>\n",
       "      <td>23.681319</td>\n",
       "    </tr>\n",
       "    <tr>\n",
       "      <th>2</th>\n",
       "      <td>12348</td>\n",
       "      <td>1797.24</td>\n",
       "      <td>31</td>\n",
       "      <td>Finland</td>\n",
       "      <td>282</td>\n",
       "      <td>57.975484</td>\n",
       "    </tr>\n",
       "    <tr>\n",
       "      <th>3</th>\n",
       "      <td>12349</td>\n",
       "      <td>1757.55</td>\n",
       "      <td>73</td>\n",
       "      <td>Italy</td>\n",
       "      <td>0</td>\n",
       "      <td>24.076027</td>\n",
       "    </tr>\n",
       "    <tr>\n",
       "      <th>4</th>\n",
       "      <td>12350</td>\n",
       "      <td>334.40</td>\n",
       "      <td>17</td>\n",
       "      <td>Norway</td>\n",
       "      <td>0</td>\n",
       "      <td>19.670588</td>\n",
       "    </tr>\n",
       "  </tbody>\n",
       "</table>\n",
       "</div>"
      ],
      "text/plain": [
       "   CustomerID  total purchase  num_transactions         Country  days  \\\n",
       "0       12346        77183.60                 1  United Kingdom     0   \n",
       "1       12347         4310.00               182         Iceland   365   \n",
       "2       12348         1797.24                31         Finland   282   \n",
       "3       12349         1757.55                73           Italy     0   \n",
       "4       12350          334.40                17          Norway     0   \n",
       "\n",
       "   avg_order_value  \n",
       "0     77183.600000  \n",
       "1        23.681319  \n",
       "2        57.975484  \n",
       "3        24.076027  \n",
       "4        19.670588  "
      ]
     },
     "execution_count": 20,
     "metadata": {},
     "output_type": "execute_result"
    }
   ],
   "source": [
    "data_group.head()"
   ]
  },
  {
   "cell_type": "markdown",
   "id": "27126421-03bf-438c-b202-74d63f443758",
   "metadata": {},
   "source": [
    "__2. Calculate Purchase Frequency__"
   ]
  },
  {
   "cell_type": "code",
   "execution_count": 21,
   "id": "2c5e657e-257e-4602-ab66-37a16a5ed8a7",
   "metadata": {},
   "outputs": [],
   "source": [
    "purchase_frequency=sum(data_group['num_transactions'])/data_group.shape[0]"
   ]
  },
  {
   "cell_type": "markdown",
   "id": "9db0c67f-d9fa-4700-ac30-24e2ca3de8db",
   "metadata": {},
   "source": [
    "__3. Calculate Repeat Rate and Churn Rate__"
   ]
  },
  {
   "cell_type": "code",
   "execution_count": 22,
   "id": "81c52db7-34f0-4947-b8a8-1e313f4e48eb",
   "metadata": {},
   "outputs": [
    {
     "data": {
      "text/plain": [
       "98.34"
      ]
     },
     "execution_count": 22,
     "metadata": {},
     "output_type": "execute_result"
    }
   ],
   "source": [
    "repeat_rate = len(data_group[data_group['num_transactions'] >= 2]) / len(data_group)\n",
    "round(repeat_rate*100.0 , 2)"
   ]
  },
  {
   "cell_type": "markdown",
   "id": "88f41e3c-19dc-4694-b868-c55c7525d9e0",
   "metadata": {},
   "source": [
    "the percentage of repeat_rate is :98.34 %"
   ]
  },
  {
   "cell_type": "markdown",
   "id": "1e766d86-b275-4788-8212-f13e9adfad37",
   "metadata": {},
   "source": [
    "__Churn Rate__"
   ]
  },
  {
   "cell_type": "code",
   "execution_count": 23,
   "id": "06c06562-843b-457c-aa2b-a0a8fb04a112",
   "metadata": {},
   "outputs": [
    {
     "data": {
      "text/plain": [
       "1.66"
      ]
     },
     "execution_count": 23,
     "metadata": {},
     "output_type": "execute_result"
    }
   ],
   "source": [
    "#Churn Rate\n",
    "churn_rate=1-repeat_rate\n",
    "round(churn_rate*100.0 , 2)"
   ]
  },
  {
   "cell_type": "markdown",
   "id": "b1ba8339-706f-4e2d-9af7-1305658afb8f",
   "metadata": {},
   "source": [
    "the percentage of Churn rate is :1.66 %"
   ]
  },
  {
   "cell_type": "code",
   "execution_count": null,
   "id": "ec04e5e2-b349-4571-bbc3-5ba2b242a9c6",
   "metadata": {},
   "outputs": [],
   "source": []
  }
 ],
 "metadata": {
  "kernelspec": {
   "display_name": "Python 3 (ipykernel)",
   "language": "python",
   "name": "python3"
  },
  "language_info": {
   "codemirror_mode": {
    "name": "ipython",
    "version": 3
   },
   "file_extension": ".py",
   "mimetype": "text/x-python",
   "name": "python",
   "nbconvert_exporter": "python",
   "pygments_lexer": "ipython3",
   "version": "3.12.6"
  }
 },
 "nbformat": 4,
 "nbformat_minor": 5
}

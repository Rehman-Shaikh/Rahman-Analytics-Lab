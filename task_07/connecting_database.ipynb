{
 "cells": [
  {
   "cell_type": "code",
   "execution_count": 1,
   "id": "21815ae4-2cd8-4be6-9f93-ff4e00dcf43a",
   "metadata": {},
   "outputs": [
    {
     "name": "stdout",
     "output_type": "stream",
     "text": [
      "   Transaction_ID        Date Product_Category             Product_Name  \\\n",
      "0           10001  01-01-2024      Electronics            iPhone 14 Pro   \n",
      "1           10002  02-01-2024  Home Appliances         Dyson V11 Vacuum   \n",
      "2           10003  03-01-2024         Clothing         Levi's 501 Jeans   \n",
      "3           10004  04-01-2024            Books        The Da Vinci Code   \n",
      "4           10005  05-01-2024  Beauty Products  Neutrogena Skincare Set   \n",
      "\n",
      "   quantity_Sold  Unit_Price  total_Revenue         Region Payment_Method  \n",
      "0              2      999.99        1999.98  North America    Credit Card  \n",
      "1              1      499.99         499.99         Europe         PayPal  \n",
      "2              3       69.99         209.97           Asia     Debit Card  \n",
      "3              4       15.99          63.96  North America    Credit Card  \n",
      "4              1       89.99          89.99         Europe         PayPal  \n"
     ]
    }
   ],
   "source": [
    "import pandas as pd\n",
    "import sqlite3\n",
    "\n",
    "# Step 1: CSV file load karo\n",
    "df = pd.read_csv(\"sales_data.csv\")\n",
    "\n",
    "# Step 2: SQLite database file banake usme connect karo\n",
    "conn = sqlite3.connect(\"sales_data.db\")  # yahi file me data jayega\n",
    "\n",
    "# Step 3: DataFrame ko SQLite table me convert karo\n",
    "df.to_sql(\"sales\", conn, if_exists='replace', index=False)\n",
    "\n",
    "# Step 4: Confirm karo ki data gaya ya nahi\n",
    "print(pd.read_sql_query(\"SELECT * FROM sales LIMIT 5\", conn))"
   ]
  },
  {
   "cell_type": "code",
   "execution_count": null,
   "id": "64cfd215-d49e-48f4-ae2d-6a57acf86e48",
   "metadata": {},
   "outputs": [],
   "source": []
  }
 ],
 "metadata": {
  "kernelspec": {
   "display_name": "Python 3 (ipykernel)",
   "language": "python",
   "name": "python3"
  },
  "language_info": {
   "codemirror_mode": {
    "name": "ipython",
    "version": 3
   },
   "file_extension": ".py",
   "mimetype": "text/x-python",
   "name": "python",
   "nbconvert_exporter": "python",
   "pygments_lexer": "ipython3",
   "version": "3.12.6"
  }
 },
 "nbformat": 4,
 "nbformat_minor": 5
}
